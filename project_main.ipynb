{
 "cells": [
  {
   "cell_type": "code",
   "execution_count": 23,
   "metadata": {},
   "outputs": [],
   "source": [
    "# Import Dependencies\n",
    "import os\n",
    "import pandas as pd\n",
    "import requests\n",
    "import json\n",
    "from config import (aqs_api_key)\n",
    "from config import (email_address)\n",
    "\n",
    "# https://aqs.epa.gov/aqsweb/documents/data_api.html#signup for api information\n",
    "\n",
    "list_url = \"https://aqs.epa.gov/data/api/list/states\"\n",
    "params = {\"email\" : email_address, \"key\" : aqs_api_key}"
   ]
  },
  {
   "cell_type": "code",
   "execution_count": 24,
   "metadata": {},
   "outputs": [
    {
     "name": "stdout",
     "output_type": "stream",
     "text": [
      "https://aqs.epa.gov/data/api/list/states?email=trent.e.little%40gmail.com&key=sandmallard17\n"
     ]
    }
   ],
   "source": [
    "response = requests.get(list_url, params = params)\n",
    "print(response.url)"
   ]
  },
  {
   "cell_type": "code",
   "execution_count": 25,
   "metadata": {},
   "outputs": [
    {
     "data": {
      "text/plain": [
       "{'Header': [{'status': 'Success',\n",
       "   'request_time': '2020-08-08T11:09:04-04:00',\n",
       "   'url': 'https://aqs.epa.gov/data/api/list/states?email=trent.e.little%40gmail.com&key=sandmallard17',\n",
       "   'rows': 56}],\n",
       " 'Data': [{'code': '01', 'value_represented': 'Alabama'},\n",
       "  {'code': '02', 'value_represented': 'Alaska'},\n",
       "  {'code': '04', 'value_represented': 'Arizona'},\n",
       "  {'code': '05', 'value_represented': 'Arkansas'},\n",
       "  {'code': '06', 'value_represented': 'California'},\n",
       "  {'code': '08', 'value_represented': 'Colorado'},\n",
       "  {'code': '09', 'value_represented': 'Connecticut'},\n",
       "  {'code': '10', 'value_represented': 'Delaware'},\n",
       "  {'code': '11', 'value_represented': 'District Of Columbia'},\n",
       "  {'code': '12', 'value_represented': 'Florida'},\n",
       "  {'code': '13', 'value_represented': 'Georgia'},\n",
       "  {'code': '15', 'value_represented': 'Hawaii'},\n",
       "  {'code': '16', 'value_represented': 'Idaho'},\n",
       "  {'code': '17', 'value_represented': 'Illinois'},\n",
       "  {'code': '18', 'value_represented': 'Indiana'},\n",
       "  {'code': '19', 'value_represented': 'Iowa'},\n",
       "  {'code': '20', 'value_represented': 'Kansas'},\n",
       "  {'code': '21', 'value_represented': 'Kentucky'},\n",
       "  {'code': '22', 'value_represented': 'Louisiana'},\n",
       "  {'code': '23', 'value_represented': 'Maine'},\n",
       "  {'code': '24', 'value_represented': 'Maryland'},\n",
       "  {'code': '25', 'value_represented': 'Massachusetts'},\n",
       "  {'code': '26', 'value_represented': 'Michigan'},\n",
       "  {'code': '27', 'value_represented': 'Minnesota'},\n",
       "  {'code': '28', 'value_represented': 'Mississippi'},\n",
       "  {'code': '29', 'value_represented': 'Missouri'},\n",
       "  {'code': '30', 'value_represented': 'Montana'},\n",
       "  {'code': '31', 'value_represented': 'Nebraska'},\n",
       "  {'code': '32', 'value_represented': 'Nevada'},\n",
       "  {'code': '33', 'value_represented': 'New Hampshire'},\n",
       "  {'code': '34', 'value_represented': 'New Jersey'},\n",
       "  {'code': '35', 'value_represented': 'New Mexico'},\n",
       "  {'code': '36', 'value_represented': 'New York'},\n",
       "  {'code': '37', 'value_represented': 'North Carolina'},\n",
       "  {'code': '38', 'value_represented': 'North Dakota'},\n",
       "  {'code': '39', 'value_represented': 'Ohio'},\n",
       "  {'code': '40', 'value_represented': 'Oklahoma'},\n",
       "  {'code': '41', 'value_represented': 'Oregon'},\n",
       "  {'code': '42', 'value_represented': 'Pennsylvania'},\n",
       "  {'code': '44', 'value_represented': 'Rhode Island'},\n",
       "  {'code': '45', 'value_represented': 'South Carolina'},\n",
       "  {'code': '46', 'value_represented': 'South Dakota'},\n",
       "  {'code': '47', 'value_represented': 'Tennessee'},\n",
       "  {'code': '48', 'value_represented': 'Texas'},\n",
       "  {'code': '49', 'value_represented': 'Utah'},\n",
       "  {'code': '50', 'value_represented': 'Vermont'},\n",
       "  {'code': '51', 'value_represented': 'Virginia'},\n",
       "  {'code': '53', 'value_represented': 'Washington'},\n",
       "  {'code': '54', 'value_represented': 'West Virginia'},\n",
       "  {'code': '55', 'value_represented': 'Wisconsin'},\n",
       "  {'code': '56', 'value_represented': 'Wyoming'},\n",
       "  {'code': '66', 'value_represented': 'Guam'},\n",
       "  {'code': '72', 'value_represented': 'Puerto Rico'},\n",
       "  {'code': '78', 'value_represented': 'Virgin Islands'},\n",
       "  {'code': '80', 'value_represented': 'Country Of Mexico'},\n",
       "  {'code': 'CC', 'value_represented': 'Canada'}]}"
      ]
     },
     "execution_count": 25,
     "metadata": {},
     "output_type": "execute_result"
    }
   ],
   "source": [
    "state_list = response.json()\n",
    "state_list"
   ]
  },
  {
   "cell_type": "code",
   "execution_count": null,
   "metadata": {},
   "outputs": [],
   "source": []
  }
 ],
 "metadata": {
  "kernelspec": {
   "display_name": "Python 3",
   "language": "python",
   "name": "python3"
  },
  "language_info": {
   "codemirror_mode": {
    "name": "ipython",
    "version": 3
   },
   "file_extension": ".py",
   "mimetype": "text/x-python",
   "name": "python",
   "nbconvert_exporter": "python",
   "pygments_lexer": "ipython3",
   "version": "3.7.6"
  }
 },
 "nbformat": 4,
 "nbformat_minor": 4
}
