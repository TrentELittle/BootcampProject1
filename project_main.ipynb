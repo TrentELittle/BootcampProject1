{
 "cells": [
  {
   "cell_type": "code",
   "execution_count": 3,
   "metadata": {},
   "outputs": [],
   "source": [
    "# Import Dependencies\n",
    "import os\n",
    "import pandas as pd\n",
    "import numpy as np\n",
    "import requests\n",
    "import json\n",
    "import pprint\n",
    "import matplotlib\n",
    "import matplotlib.pyplot as plt\n",
    "from config import (aqs_api_key)\n",
    "from config import (email_address)\n",
    "\n",
    "\n",
    "# https://aqs.epa.gov/aqsweb/documents/data_api.html#signup for api information\n",
    "pp = pprint.PrettyPrinter(indent = 4)\n",
    "states_url = \"https://aqs.epa.gov/data/api/list/states\"\n",
    "parameters_url = \"https://aqs.epa.gov/data/api/list/classes\"\n",
    "daily_data_url = \"https://aqs.epa.gov/data/api/dailyData/byState\"\n",
    "annual_data_url = \"https://aqs.epa.gov/data/api/annualData/byState\"\n",
    "p1 = {\"email\" : email_address, \"key\" : aqs_api_key}\n",
    "\n",
    "# States to be used and their ID Codes, All in top 10 for worst congestion and traffic\n",
    "California = \"06\"\n",
    "Hawaii = \"15\"\n",
    "District_of_Columbia = \"11\"\n",
    "New_York = \"36\"\n",
    "Massachusetts = \"25\"\n",
    "\n",
    "cali_data = []\n",
    "hawaii_data = []\n",
    "ny_data = []\n",
    "dc_data = []\n",
    "mass19_data = []\n",
    "mass20_data = []"
   ]
  },
  {
   "cell_type": "code",
   "execution_count": null,
   "metadata": {},
   "outputs": [],
   "source": []
  },
  {
   "cell_type": "code",
   "execution_count": 4,
   "metadata": {
    "scrolled": true
   },
   "outputs": [
    {
     "ename": "NameError",
     "evalue": "name 'sample_data_url' is not defined",
     "output_type": "error",
     "traceback": [
      "\u001b[1;31m---------------------------------------------------------------------------\u001b[0m",
      "\u001b[1;31mNameError\u001b[0m                                 Traceback (most recent call last)",
      "\u001b[1;32m<ipython-input-4-37245a8b53a7>\u001b[0m in \u001b[0;36m<module>\u001b[1;34m\u001b[0m\n\u001b[0;32m      4\u001b[0m \u001b[1;33m\u001b[0m\u001b[0m\n\u001b[0;32m      5\u001b[0m \u001b[1;31m# Call to url\u001b[0m\u001b[1;33m\u001b[0m\u001b[1;33m\u001b[0m\u001b[1;33m\u001b[0m\u001b[0m\n\u001b[1;32m----> 6\u001b[1;33m \u001b[0mcali_response\u001b[0m \u001b[1;33m=\u001b[0m \u001b[0mrequests\u001b[0m\u001b[1;33m.\u001b[0m\u001b[0mget\u001b[0m\u001b[1;33m(\u001b[0m\u001b[0msample_data_url\u001b[0m\u001b[1;33m,\u001b[0m \u001b[0mparams\u001b[0m \u001b[1;33m=\u001b[0m \u001b[0mcali_params\u001b[0m\u001b[1;33m)\u001b[0m\u001b[1;33m.\u001b[0m\u001b[0mjson\u001b[0m\u001b[1;33m(\u001b[0m\u001b[1;33m)\u001b[0m\u001b[1;33m\u001b[0m\u001b[1;33m\u001b[0m\u001b[0m\n\u001b[0m\u001b[0;32m      7\u001b[0m \u001b[0mcali_data\u001b[0m\u001b[1;33m.\u001b[0m\u001b[0mappend\u001b[0m\u001b[1;33m(\u001b[0m\u001b[0mcali_response\u001b[0m\u001b[1;33m)\u001b[0m\u001b[1;33m\u001b[0m\u001b[1;33m\u001b[0m\u001b[0m\n\u001b[0;32m      8\u001b[0m \u001b[1;33m\u001b[0m\u001b[0m\n",
      "\u001b[1;31mNameError\u001b[0m: name 'sample_data_url' is not defined"
     ]
    }
   ],
   "source": [
    "# Create a DataFrame for California and pull carbon monoxide data from API\n",
    "cali_params = {\"email\" : email_address, \"key\" : aqs_api_key, \"param\" : \"42101\", \n",
    "          \"bdate\" : \"20200101\", \"edate\" : \"20200801\", \"state\" : California}\n",
    "\n",
    "# Call to url\n",
    "cali_response = requests.get(sample_data_url, params = cali_params).json()\n",
    "cali_data.append(cali_response)\n",
    "\n",
    "cali_df = pd.DataFrame(cali_data[0][\"Data\"])\n",
    "cali_df.head()\n"
   ]
  },
  {
   "cell_type": "code",
   "execution_count": null,
   "metadata": {},
   "outputs": [],
   "source": [
    "clean_cali_df=cali_df.drop([\"parameter_code\",\"datum\",\"cbsa_code\",\"poc\",\"method_code\",\"local_site_name\",\"event_type\",\"validity_indicator\",\"method_code\"], axis=1)\n"
   ]
  },
  {
   "cell_type": "code",
   "execution_count": null,
   "metadata": {},
   "outputs": [],
   "source": [
    "cali_df.isnull()"
   ]
  },
  {
   "cell_type": "code",
   "execution_count": null,
   "metadata": {},
   "outputs": [],
   "source": [
    "cali_df.nsmallest(3, 'first_max_value')"
   ]
  },
  {
   "cell_type": "code",
   "execution_count": null,
   "metadata": {},
   "outputs": [],
   "source": [
    "# Create a DataFrame for Hawaii and pull carbon monoxide data from API\n",
    "hawaii_params = {\"email\" : email_address, \"key\" : aqs_api_key, \"param\" : \"42101\", \n",
    "          \"bdate\" : \"20200101\", \"edate\" : \"20200801\", \"state\" : Hawaii}\n",
    "\n",
    "# Call to url\n",
    "hawaii_response = requests.get(sample_data_url, params = hawaii_params).json()\n",
    "hawaii_data.append(hawaii_response)\n",
    "\n",
    "hawaii_df = pd.DataFrame(hawaii_data[0][\"Data\"])\n",
    "hawaii_df.head()"
   ]
  },
  {
   "cell_type": "code",
   "execution_count": null,
   "metadata": {},
   "outputs": [],
   "source": [
    "# Create a DataFrame for District of Columbia and pull carbon monoxide data from API\n",
    "dc_params = {\"email\" : email_address, \"key\" : aqs_api_key, \"param\" : \"42101\", \n",
    "          \"bdate\" : \"20200101\", \"edate\" : \"20200801\", \"state\" : District_of_Columbia}\n",
    "\n",
    "# Call to url\n",
    "dc_response = requests.get(sample_data_url, params = dc_params).json()\n",
    "dc_data.append(dc_response)\n",
    "\n",
    "dc_df = pd.DataFrame(dc_data[0][\"Data\"])\n",
    "dc_df.head()"
   ]
  },
  {
   "cell_type": "code",
   "execution_count": null,
   "metadata": {},
   "outputs": [],
   "source": [
    "# Create a DataFrame for New York and pull carbon monoxide data from API\n",
    "ny_params = {\"email\" : email_address, \"key\" : aqs_api_key, \"param\" : \"42101\", \n",
    "          \"bdate\" : \"20200101\", \"edate\" : \"20200801\", \"state\" : New_York}\n",
    "\n",
    "# Call to url\n",
    "ny_response = requests.get(sample_data_url, params = ny_params).json()\n",
    "ny_data.append(ny_response)\n",
    "\n",
    "ny_df = pd.DataFrame(ny_data[0][\"Data\"])\n",
    "ny_df.head()"
   ]
  },
  {
   "cell_type": "code",
   "execution_count": null,
   "metadata": {
    "scrolled": true
   },
   "outputs": [],
   "source": [
    "# Create a DataFrame for Mass and pull carbon monoxide data from API\n",
    "\n",
    "# Pull from 2019 and 2020 to merge, api does not allow pulls from multiple years together.\n",
    "#2019\n",
    "mass_params19 = {\"email\" : email_address, \"key\" : aqs_api_key, \"param\" : \"42101\", \n",
    "          \"bdate\" : \"20190101\", \"edate\" : \"20191231\", \"state\" : Massachusetts}\n",
    "\n",
    "    # Call to url\n",
    "mass19_response = requests.get(daily_data_url, params = mass_params19).json()\n",
    "mass19_data.append(mass19_response)\n",
    "\n",
    "mass19_df = pd.DataFrame(mass19_data[0][\"Data\"])\n",
    "\n",
    "#2020\n",
    "mass_params20 = {\"email\" : email_address, \"key\" : aqs_api_key, \"param\" : \"42101\", \n",
    "          \"bdate\" : \"20200101\", \"edate\" : \"20200401\", \"state\" : Massachusetts}\n",
    "\n",
    "    # Call to url\n",
    "mass20_response = requests.get(daily_data_url, params = mass_params20).json()\n",
    "mass20_data.append(mass20_response)\n",
    "\n",
    "mass20_df = pd.DataFrame(mass20_data[0][\"Data\"])\n",
    "\n",
    "# Merge 2019 and 2020 data\n",
    "merge_mass_df = mass19_df.append(mass20_df)\n",
    "# merge_mass_df"
   ]
  },
  {
   "cell_type": "code",
   "execution_count": null,
   "metadata": {},
   "outputs": [],
   "source": [
    "# Drop unnecessary columns to clean DF\n",
    "clean_mass_df = merge_mass_df.drop([\"parameter_code\",\"datum\",\"cbsa_code\",\"poc\",\"method_code\",\"local_site_name\",\n",
    "                            \"event_type\",\"validity_indicator\",\"method_code\",\"state_code\",\"county_code\",\n",
    "                            \"site_number\",\"parameter\",\"pollutant_standard\",\"units_of_measure\",\"method\",\n",
    "                            \"site_address\",\"cbsa\",\"observation_count\",\"observation_percent\"], axis=1)\n",
    "\n",
    "# Filter out the 1-hour sample_duration and fix any null values\n",
    "sample_duration = clean_mass_df['sample_duration'] == '8-HR RUN AVG END HOUR'\n",
    "clean_mass_df = clean_mass_df[sample_duration]\n",
    "\n",
    "# Groupby date and fix null values\n",
    "group_mass = pd.DataFrame(clean_mass_df.groupby(['date_local', 'county']).mean().unstack())\n",
    "# group_mass = group_mass.fillna(0)\n"
   ]
  },
  {
   "cell_type": "code",
   "execution_count": null,
   "metadata": {},
   "outputs": [],
   "source": [
    "# Convert the date_local in the index into 'datetime' format\n",
    "group_mass.index = pd.to_datetime(group_mass.index)\n",
    "\n",
    "# Average out data on a per month basis\n",
    "mass_monthly = group_mass.resample('M').mean()\n",
    "mass_monthly.head()"
   ]
  },
  {
   "cell_type": "code",
   "execution_count": null,
   "metadata": {},
   "outputs": [],
   "source": [
    "# Create first Line Chart for first_max_value of CO and data_local for Mass_df\n",
    "fig, ax = plt.subplots(figsize=(10,7))\n",
    "plt.xticks(rotation = 45)\n",
    "xvalue = mass_monthly.index\n",
    "yvalue = mass_monthly['aqi']\n",
    "\n",
    "plt.xlabel('Date by Month')\n",
    "plt.ylabel('Average AQI(ppm)')\n",
    "plt.title('Massachusetts Carbon Monoxide AQI 2019-2020')\n",
    "plt.plot(xvalue, yvalue)\n",
    "plt.legend(yvalue)\n"
   ]
  },
  {
   "cell_type": "code",
   "execution_count": null,
   "metadata": {},
   "outputs": [],
   "source": []
  }
 ],
 "metadata": {
  "kernelspec": {
   "display_name": "Python 3",
   "language": "python",
   "name": "python3"
  },
  "language_info": {
   "codemirror_mode": {
    "name": "ipython",
    "version": 3
   },
   "file_extension": ".py",
   "mimetype": "text/x-python",
   "name": "python",
   "nbconvert_exporter": "python",
   "pygments_lexer": "ipython3",
   "version": "3.7.6"
  }
 },
 "nbformat": 4,
 "nbformat_minor": 4
}
